{
 "cells": [
  {
   "cell_type": "code",
   "execution_count": 1,
   "metadata": {},
   "outputs": [
    {
     "name": "stdout",
     "output_type": "stream",
     "text": [
      "X_train shape: (240, 100, 132)\n",
      "Y_train shape: (240,)\n",
      "X_test shape: (60, 100, 132)\n",
      "Y_test shape: (60,)\n"
     ]
    }
   ],
   "source": [
    "import os\n",
    "import numpy as np\n",
    "import pandas as pd\n",
    "from sklearn.model_selection import train_test_split\n",
    "\n",
    "# Define dataset paths and labels\n",
    "data_dirs = {\n",
    "    \"falling\": 0,\n",
    "    \"sitting\": 1,\n",
    "    \"standing\": 2\n",
    "}\n",
    "\n",
    "base_path = \"increase_data\"\n",
    "X, Y = [], []\n",
    "\n",
    "# Load data\n",
    "for category, label in data_dirs.items():\n",
    "    folder_path = os.path.join(base_path, category)\n",
    "    \n",
    "    for file in os.listdir(folder_path):\n",
    "        file_path = os.path.join(folder_path, file)\n",
    "\n",
    "        # Skip empty files\n",
    "        if os.stat(file_path).st_size == 0:\n",
    "            print(f\"Skipping empty file: {file_path}\")\n",
    "            continue\n",
    "\n",
    "        try:\n",
    "            # Read CSV file (no header, raw data)\n",
    "            data = pd.read_csv(file_path, header=None).values  \n",
    "\n",
    "            # Ensure correct shape (100, 132)\n",
    "            if data.shape == (100, 132):\n",
    "                X.append(data)\n",
    "                Y.append(label)\n",
    "            else:\n",
    "                print(f\"Skipping file due to incorrect shape: {file_path} -> {data.shape}\")\n",
    "\n",
    "        except pd.errors.EmptyDataError:\n",
    "            print(f\"Skipping empty file (exception caught): {file_path}\")\n",
    "        except Exception as e:\n",
    "            print(f\"Error reading {file_path}: {e}\")\n",
    "\n",
    "# Convert to NumPy arrays\n",
    "X = np.array(X)  # Shape: (num_samples, 100, 132)\n",
    "Y = np.array(Y)  # Shape: (num_samples,)\n",
    "\n",
    "# Ensure there is data before splitting\n",
    "if len(X) == 0:\n",
    "    raise ValueError(\"No valid data found. Check your files!\")\n",
    "\n",
    "# Split into training and testing\n",
    "X_train, X_test, Y_train, Y_test = train_test_split(X, Y, test_size=0.2, random_state=42, stratify=Y)\n",
    "\n",
    "# Output dataset shape\n",
    "print(f\"X_train shape: {X_train.shape}\")  # Expected: (num_train_samples, 100, 132)\n",
    "print(f\"Y_train shape: {Y_train.shape}\")  # Expected: (num_train_samples,)\n",
    "print(f\"X_test shape: {X_test.shape}\")   # Expected: (num_test_samples, 100, 132)\n",
    "print(f\"Y_test shape: {Y_test.shape}\")   # Expected: (num_test_samples,)\n"
   ]
  },
  {
   "cell_type": "code",
   "execution_count": null,
   "metadata": {},
   "outputs": [],
   "source": [
    "model  = Sequential()\n",
    "model.add(LSTM(units=50, return_sequences=True, input_shape=(X.shape[1], X.shape[2])))\n",
    "model.add(Dropout(0.2))\n",
    "model.add(LSTM(units=50, return_sequences=True))\n",
    "model.add(Dropout(0.2))\n",
    "model.add(LSTM(units=50, return_sequences=True))\n",
    "model.add(Dropout(0.2))\n",
    "model.add(LSTM(units=50))\n",
    "model.add(Dropout(0.2))\n",
    "model.add(Dense(units=3, activation=\"softmax\"))\n",
    "model.compile(optimizer=\"adam\", metrics=['accuracy'], loss=\"sparse_categorical_crossentropy\")"
   ]
  },
  {
   "cell_type": "code",
   "execution_count": null,
   "metadata": {},
   "outputs": [],
   "source": [
    "\n",
    "# Train model\n",
    "history = model.fit(X_train, Y_train, epochs=16, batch_size=32, validation_data=(X_test, Y_test))\n",
    "model.save(\"model.h5\")\n"
   ]
  }
 ],
 "metadata": {
  "kernelspec": {
   "display_name": "Python 3",
   "language": "python",
   "name": "python3"
  },
  "language_info": {
   "codemirror_mode": {
    "name": "ipython",
    "version": 3
   },
   "file_extension": ".py",
   "mimetype": "text/x-python",
   "name": "python",
   "nbconvert_exporter": "python",
   "pygments_lexer": "ipython3",
   "version": "3.10.0rc1"
  }
 },
 "nbformat": 4,
 "nbformat_minor": 2
}
